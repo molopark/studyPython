{
 "cells": [
  {
   "cell_type": "markdown",
   "metadata": {},
   "source": [
    "# create table\n",
    "CREATE TABLE customer(\n",
    "id integer primary key autoincrement,\n",
    "name text not null,\n",
    "category integer,\n",
    "region text);"
   ]
  },
  {
   "cell_type": "markdown",
   "metadata": {},
   "source": [
    "# table column info\n",
    "PROGMA table_info(customer)"
   ]
  },
  {
   "cell_type": "markdown",
   "metadata": {},
   "source": [
    "# insert\n",
    "INSERT INTO customer(name, category, region) VALUES ('Alex', 1, 'SEA');"
   ]
  },
  {
   "cell_type": "markdown",
   "metadata": {},
   "source": [
    "# select\n",
    "SELECT * FROM customer;"
   ]
  },
  {
   "cell_type": "markdown",
   "metadata": {},
   "source": [
    "# connect\n",
    "    conn = sqlite3.connect('etc/test.db')\n",
    "    cur = conn.cursor()\n",
    "    cur.execute('select * from customer')\n",
    "    rows = cur.fetchall()\n",
    "    for row in rows:\n",
    "        print(row)\n",
    "    conn.close()"
   ]
  },
  {
   "cell_type": "code",
   "execution_count": 3,
   "metadata": {},
   "outputs": [
    {
     "output_type": "stream",
     "name": "stdout",
     "text": "(1, 'Alex', 1, 'SEA')\n(2, '홍길동', 1, '서울')\n(3, '이몽룡', 1, '남원')\n(4, '유관순', 2, '수원')\n"
    }
   ],
   "source": [
    "import sqlite3\n",
    "conn = sqlite3.connect('etc/test.db')\n",
    "cur = conn.cursor()\n",
    "cur.execute('select * from customer')\n",
    "rows = cur.fetchall()\n",
    "for row in rows:\n",
    "    print(row)\n",
    "conn.close()"
   ]
  },
  {
   "cell_type": "code",
   "execution_count": 5,
   "metadata": {},
   "outputs": [
    {
     "output_type": "stream",
     "name": "stdout",
     "text": "(1, 'Alex', 1, 'SEA')\n"
    }
   ],
   "source": [
    "import sqlite3\n",
    "conn = sqlite3.connect('etc/test.db')\n",
    "cur = conn.cursor()\n",
    "sql = 'select * from customer where category=? and region=?'\n",
    "cur.execute(sql, (1, 'SEA'))\n",
    "rows = cur.fetchall()\n",
    "for row in rows:\n",
    "    print(row)\n",
    "conn.close()"
   ]
  },
  {
   "cell_type": "code",
   "execution_count": 6,
   "metadata": {},
   "outputs": [
    {
     "output_type": "stream",
     "name": "stdout",
     "text": "(1, 'Alex', 1, 'SEA')\n"
    }
   ],
   "source": [
    "import sqlite3\n",
    "conn = sqlite3.connect('etc/test.db')\n",
    "cur = conn.cursor()\n",
    "sql = 'select * from customer where id = :id'\n",
    "cur.execute(sql, {\"id\": 1})\n",
    "rows = cur.fetchall()\n",
    "for row in rows:\n",
    "    print(row)\n",
    "conn.close()"
   ]
  },
  {
   "cell_type": "code",
   "execution_count": 7,
   "metadata": {},
   "outputs": [],
   "source": [
    "import sqlite3\n",
    "conn = sqlite3.connect('etc/test.db')\n",
    "cur = conn.cursor()\n",
    "data = (\n",
    "    ('홍길동', 1, '서울'),\n",
    "    ('이몽룡', 1, '남원'),\n",
    "    ('유관순', 2, '수원'),\n",
    ")\n",
    "sql = 'INSERT INTO customer(name, category, region) VALUES (?, ?, ?)'\n",
    "cur.executemany(sql, data)\n",
    "conn.commit()\n",
    "conn.close()"
   ]
  },
  {
   "cell_type": "code",
   "execution_count": 9,
   "metadata": {},
   "outputs": [
    {
     "output_type": "stream",
     "name": "stdout",
     "text": "(1, 'Alex', 1, 'SEA')\n(2, '홍길동', 1, '서울')\n(3, '이몽룡', 1, '남원')\n(4, '유관순', 2, '수원')\n(5, '홍길동', 1, '서울')\n(6, '이몽룡', 1, '남원')\n(7, '유관순', 2, '수원')\n"
    }
   ],
   "source": [
    "import sqlite3\n",
    "conn = sqlite3.connect('etc/test.db')\n",
    "with conn:\n",
    "    cur = conn.cursor()\n",
    "    sql = 'select * from customer'\n",
    "    cur.execute(sql)\n",
    "    rows = cur.fetchall()\n",
    "    for row in rows:\n",
    "        print(row)"
   ]
  },
  {
   "cell_type": "code",
   "execution_count": null,
   "metadata": {},
   "outputs": [],
   "source": []
  }
 ],
 "metadata": {
  "kernelspec": {
   "display_name": "Python 3",
   "language": "python",
   "name": "python3"
  },
  "language_info": {
   "codemirror_mode": {
    "name": "ipython",
    "version": 3
   },
   "file_extension": ".py",
   "mimetype": "text/x-python",
   "name": "python",
   "nbconvert_exporter": "python",
   "pygments_lexer": "ipython3",
   "version": "3.7.3-final"
  }
 },
 "nbformat": 4,
 "nbformat_minor": 4
}
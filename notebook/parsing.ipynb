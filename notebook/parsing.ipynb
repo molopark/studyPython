{
 "cells": [
  {
   "cell_type": "code",
   "execution_count": 1,
   "metadata": {},
   "outputs": [
    {
     "name": "stdout",
     "output_type": "stream",
     "text": [
      "Book1\n",
      "12345\n",
      "author1\n",
      "30\n",
      "author2\n",
      "25\n"
     ]
    }
   ],
   "source": [
    "import json\n",
    "\n",
    "data = '{\"title\":\"Book1\", \"ISBN\":\"12345\", \"author\":[{\"name\":\"author1\", \"age\":30}, {\"name\":\"author2\", \"age\":25}]}'\n",
    "json_data = json.loads(data)\n",
    "\n",
    "print(json_data['title'])\n",
    "print(json_data['ISBN'])\n",
    "\n",
    "for author in json_data['author']:\n",
    "    print(author['name'])\n",
    "    print(author['age'])"
   ]
  },
  {
   "cell_type": "code",
   "execution_count": 2,
   "metadata": {},
   "outputs": [
    {
     "name": "stdout",
     "output_type": "stream",
     "text": [
      "Book1\n",
      "12345\n",
      "author1\n",
      "30\n",
      "author2\n",
      "25\n"
     ]
    }
   ],
   "source": [
    "import json\n",
    "from io import StringIO\n",
    "\n",
    "io = StringIO('{\"title\":\"Book1\", \"ISBN\":\"12345\", \"author\":[{\"name\":\"author1\", \"age\":30}, {\"name\":\"author2\", \"age\":25}]}')\n",
    "json_data = json.load(io)\n",
    "\n",
    "print(json_data['title'])\n",
    "print(json_data['ISBN'])\n",
    "\n",
    "for author in json_data['author']:\n",
    "    print(author['name'])\n",
    "    print(author['age'])"
   ]
  },
  {
   "cell_type": "code",
   "execution_count": 3,
   "metadata": {},
   "outputs": [
    {
     "name": "stdout",
     "output_type": "stream",
     "text": [
      "{\"title\": \"Book1\", \"ISBN\": \"12345\", \"author\": [{\"name\": \"author1\", \"age\": 30}, {\"name\": \"author2\", \"age\": 25}]}\n",
      "\n",
      "{\n",
      "    \"title\": \"Book1\",\n",
      "    \"ISBN\": \"12345\",\n",
      "    \"author\": [\n",
      "        {\n",
      "            \"name\": \"author1\",\n",
      "            \"age\": 30\n",
      "        },\n",
      "        {\n",
      "            \"name\": \"author2\",\n",
      "            \"age\": 25\n",
      "        }\n",
      "    ]\n",
      "}\n"
     ]
    }
   ],
   "source": [
    "import json\n",
    "\n",
    "book = {\"title\":\"Book1\", \"ISBN\":\"12345\", \"author\":[{\"name\":\"author1\", \"age\":30}, {\"name\":\"author2\", \"age\":25}]}\n",
    "print(json.dumps(book))\n",
    "print('')\n",
    "print(json.dumps(book, indent=4))"
   ]
  },
  {
   "cell_type": "code",
   "execution_count": 4,
   "metadata": {},
   "outputs": [
    {
     "name": "stdout",
     "output_type": "stream",
     "text": [
      "{\"title\": \"Book1\", \"ISBN\": \"12345\", \"author\": [{\"name\": \"author1\", \"age\": 30}, {\"name\": \"author2\", \"age\": 25}]}\n",
      "\n",
      "{\n",
      "    \"title\": \"Book1\",\n",
      "    \"ISBN\": \"12345\",\n",
      "    \"author\": [\n",
      "        {\n",
      "            \"name\": \"author1\",\n",
      "            \"age\": 30\n",
      "        },\n",
      "        {\n",
      "            \"name\": \"author2\",\n",
      "            \"age\": 25\n",
      "        }\n",
      "    ]\n",
      "}\n"
     ]
    }
   ],
   "source": [
    "import json\n",
    "from io import StringIO\n",
    "\n",
    "book = {\"title\":\"Book1\", \"ISBN\":\"12345\", \"author\":[{\"name\":\"author1\", \"age\":30}, {\"name\":\"author2\", \"age\":25}]}\n",
    "io = StringIO()\n",
    "json.dump(book, io)\n",
    "print(io.getvalue())\n",
    "print('')\n",
    "\n",
    "io = StringIO()\n",
    "json.dump(book, io, indent=4)\n",
    "print(io.getvalue())"
   ]
  },
  {
   "cell_type": "code",
   "execution_count": 5,
   "metadata": {},
   "outputs": [
    {
     "name": "stdout",
     "output_type": "stream",
     "text": [
      "<Element 'rss' at 0x056FFD20>\n"
     ]
    }
   ],
   "source": [
    "from xml.etree import ElementTree\n",
    "\n",
    "tree = ElementTree.parse(\"rss.xml\")\n",
    "root = tree.getroot()\n",
    "\n",
    "print(root)"
   ]
  },
  {
   "cell_type": "code",
   "execution_count": 10,
   "metadata": {},
   "outputs": [
    {
     "name": "stdout",
     "output_type": "stream",
     "text": [
      "기상청 육상 중기예보\n"
     ]
    }
   ],
   "source": [
    "from xml.etree import ElementTree\n",
    "\n",
    "tree = ElementTree.parse(\"rss.xml\")\n",
    "root = tree.getroot()\n",
    "\n",
    "# root.findall(\"channel/item/description/body/location/data\")\n",
    "# for data in root.findall(\"channel/item/description/body/location/data\"):\n",
    "#     tmEf = data.find(\"tmEf\").text\n",
    "#     print(tmEf)\n",
    "\n",
    "for aa in root.findall(\"channel\"):\n",
    "   print(aa.find(\"title\").text)"
   ]
  },
  {
   "cell_type": "code",
   "execution_count": 61,
   "metadata": {},
   "outputs": [
    {
     "name": "stdout",
     "output_type": "stream",
     "text": [
      "\n",
      "    ○ (맑고 건조) 이번 예보기간(24일~5월 1일)에는 맑은 날씨가 이어지면서 대기가 차차 건조해지겠으니, 산불 등 화재예방에 유의하기 바랍니다.<br />○ (기온) 24일(금) 낮 기온은 13~17도로 어제(13~16도)와 비슷하겠으나, 25일(토)부터는 15~25도로 차차 높아지겠고, 낮과 밤의 기온차가 10도 이상 크겠습니다. <br /> 한편, 24일(금)은 아침 기온이 1~7도로 낮아 쌀쌀하겠고, 일부 내륙에는 아침 기온이 영하권으로 내려가는 곳이 있겠습니다.<br />○ (해상) 24일(금)~25일(토)은 물결이 1.0~3.0m로 높게 일겠고, 그 밖의 날은 1.0~2.0m로 일겠습니다.<br />○ (주말전망) 대체로 맑겠고, 아침 기온은 4~9도, 낮 기온은 15~19도의 분포를 보이겠습니다.\n",
      "    \n"
     ]
    }
   ],
   "source": [
    "import xml.etree.ElementTree as elemTree\n",
    "\n",
    "xmlStr = \"\"\"\n",
    "<channel>\n",
    "<description>기상청 날씨 웹서비스</description>\n",
    "<language>ko</language>\n",
    "<generator>기상청</generator>\n",
    "<pubDate>2020년 04월 21일 (화)요일 06:00</pubDate>\n",
    "<author>기상청</author>\n",
    "<category>육상중기예보</category>\n",
    "<title>서울,경기도 육상 중기예보 - 2020년 04월 21일 (화)요일 06:00 발표</title>\n",
    "<link>\n",
    "http://www.kma.go.kr/weather/forecast/mid-term_02.jsp\n",
    "</link>\n",
    "<guid>\n",
    "http://www.kma.go.kr/weather/forecast/mid-term_02.jsp\n",
    "</guid>\n",
    "<header>\n",
    "    <title>서울,경기도 육상중기예보</title>\n",
    "    <tm>202004210600</tm>\n",
    "    <wf>\n",
    "    <![CDATA[○ (맑고 건조) 이번 예보기간(24일~5월 1일)에는 맑은 날씨가 이어지면서 대기가 차차 건조해지겠으니, 산불 등 화재예방에 유의하기 바랍니다.<br />○ (기온) 24일(금) 낮 기온은 13~17도로 어제(13~16도)와 비슷하겠으나, 25일(토)부터는 15~25도로 차차 높아지겠고, 낮과 밤의 기온차가 10도 이상 크겠습니다. <br /> 한편, 24일(금)은 아침 기온이 1~7도로 낮아 쌀쌀하겠고, 일부 내륙에는 아침 기온이 영하권으로 내려가는 곳이 있겠습니다.<br />○ (해상) 24일(금)~25일(토)은 물결이 1.0~3.0m로 높게 일겠고, 그 밖의 날은 1.0~2.0m로 일겠습니다.<br />○ (주말전망) 대체로 맑겠고, 아침 기온은 4~9도, 낮 기온은 15~19도의 분포를 보이겠습니다.]]>\n",
    "    </wf>\n",
    "</header>\n",
    "</channel>\n",
    "\"\"\"\n",
    "\n",
    "tree2 = elemTree.fromstring(xmlStr)\n",
    "print(tree2.find(\"header\").find(\"wf\").text)\n"
   ]
  }
 ],
 "metadata": {
  "kernelspec": {
   "display_name": "Python 3",
   "language": "python",
   "name": "python3"
  },
  "language_info": {
   "codemirror_mode": {
    "name": "ipython",
    "version": 3
   },
   "file_extension": ".py",
   "mimetype": "text/x-python",
   "name": "python",
   "nbconvert_exporter": "python",
   "pygments_lexer": "ipython3",
   "version": "3.7.3"
  }
 },
 "nbformat": 4,
 "nbformat_minor": 4
}

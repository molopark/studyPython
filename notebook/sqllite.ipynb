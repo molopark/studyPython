{
 "cells": [
  {
   "cell_type": "code",
   "execution_count": 3,
   "metadata": {},
   "outputs": [
    {
     "name": "stdout",
     "output_type": "stream",
     "text": [
      "(3, 'kim3', 'kim@.com', '010-0000-0000', 'www.com', '2022-06-05 13:29:32')\n"
     ]
    }
   ],
   "source": [
    "import sqlite3\n",
    "import datetime\n",
    "\n",
    "# db 생성\n",
    "make_db = sqlite3.connect('./tdb.db',isolation_level=None)\n",
    "\n",
    "data = make_db.cursor()\n",
    "\n",
    "# 테이블 생성\n",
    "data.execute(\"create table if not exists user(id integer primary key, username text, email text, phone text, wetsite text, regdate text)\")\n",
    "\n",
    "now = datetime.datetime.now()\n",
    "nowDatetime = now.strftime('%Y-%m-%d %H:%M:%S')\n",
    "\n",
    "# 데이터 입력\n",
    "# data.execute(\"insert into user values( 3, 'kim3', 'kim@.com','010-0000-0000','www.com',?)\", (nowDatetime,))\n",
    "\n",
    "# 데이터 조회\n",
    "data.execute(\"select * from user\")\n",
    "\n",
    "rows = data.fetchall()\n",
    "\n",
    "for r in rows:\n",
    "    print(r)\n"
   ]
  }
 ],
 "metadata": {
  "interpreter": {
   "hash": "3ad7a79b48397a2c7298da0b944d557eaddda4f5e3f1e06c498699d8de338ff9"
  },
  "kernelspec": {
   "display_name": "Python 3.10.2 64-bit",
   "language": "python",
   "name": "python3"
  },
  "language_info": {
   "codemirror_mode": {
    "name": "ipython",
    "version": 3
   },
   "file_extension": ".py",
   "mimetype": "text/x-python",
   "name": "python",
   "nbconvert_exporter": "python",
   "pygments_lexer": "ipython3",
   "version": "3.10.2"
  },
  "orig_nbformat": 4
 },
 "nbformat": 4,
 "nbformat_minor": 2
}

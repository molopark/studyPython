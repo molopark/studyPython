{
 "cells": [
  {
   "cell_type": "code",
   "execution_count": 1,
   "metadata": {},
   "outputs": [
    {
     "name": "stdin",
     "output_type": "stream",
     "text": [
      "입력: aa\n"
     ]
    },
    {
     "name": "stdout",
     "output_type": "stream",
     "text": [
      "aaaa\n"
     ]
    }
   ],
   "source": [
    "user = input(\"입력:\")\n",
    "print(user*2)"
   ]
  },
  {
   "cell_type": "code",
   "execution_count": 2,
   "metadata": {},
   "outputs": [
    {
     "name": "stdin",
     "output_type": "stream",
     "text": [
      "숫자를 입력하세요.: 3\n"
     ]
    },
    {
     "name": "stdout",
     "output_type": "stream",
     "text": [
      "13\n"
     ]
    }
   ],
   "source": [
    "num = input(\"숫자를 입력하세요.:\")\n",
    "print(10 + int(num))"
   ]
  },
  {
   "cell_type": "code",
   "execution_count": 3,
   "metadata": {},
   "outputs": [
    {
     "name": "stdin",
     "output_type": "stream",
     "text": [
      "숫자를 입력하세요.: 5\n"
     ]
    },
    {
     "name": "stdout",
     "output_type": "stream",
     "text": [
      "홀수\n",
      "0\n"
     ]
    }
   ],
   "source": [
    "oddnum = input(\"숫자를 입력하세요.:\")\n",
    "if int(oddnum) %2 == 0:\n",
    "    print(\"짝수\")\n",
    "else:\n",
    "    print(\"홀수\")\n",
    "num = int(oddnum) - 20\n",
    "if num > 255:\n",
    "    print(255)\n",
    "elif num < 0:\n",
    "    print(0)\n",
    "else:\n",
    "    print(num)"
   ]
  },
  {
   "cell_type": "code",
   "execution_count": 4,
   "metadata": {},
   "outputs": [
    {
     "name": "stdin",
     "output_type": "stream",
     "text": [
      "좋아하는 과일: apple\n"
     ]
    },
    {
     "name": "stdout",
     "output_type": "stream",
     "text": [
      "NO\n"
     ]
    }
   ],
   "source": [
    "fruit = [\"사과\",\"포도\",\"홍시\"]\n",
    "user = input(\"좋아하는 과일:\")\n",
    "if user in fruit:\n",
    "    print(\"OK\")\n",
    "else:\n",
    "    print(\"NO\")"
   ]
  },
  {
   "cell_type": "code",
   "execution_count": 65,
   "metadata": {},
   "outputs": [
    {
     "name": "stdout",
     "output_type": "stream",
     "text": [
      "봄 딸기\n",
      "여름 수박\n",
      "가을 사과\n",
      "\n",
      "봄\n",
      "여름\n",
      "가을\n",
      "\n",
      "딸기\n",
      "수박\n",
      "사과\n"
     ]
    }
   ],
   "source": [
    "fruitSeason = {\"봄\":\"딸기\",\"여름\":\"수박\",\"가을\":\"사과\"}\n",
    "for i in fruitSeason:\n",
    "    print(i, fruitSeason[i])\n",
    "print(\"\")\n",
    "for key in fruitSeason.keys():\n",
    "    print(key)\n",
    "print(\"\")\n",
    "for val in fruitSeason.values():\n",
    "    print(val)"
   ]
  },
  {
   "cell_type": "code",
   "execution_count": 6,
   "metadata": {},
   "outputs": [
    {
     "name": "stdout",
     "output_type": "stream",
     "text": [
      "010\n",
      "2995\n",
      "5083\n"
     ]
    }
   ],
   "source": [
    "# ph = input(\"휴대전화 번호:\")\n",
    "ph = \"010-2995-5083\"\n",
    "phnum = ph.split(\"-\")\n",
    "# print(type(phnum))\n",
    "# print(len(phnum))\n",
    "for i in phnum:\n",
    "    print(i)"
   ]
  },
  {
   "cell_type": "code",
   "execution_count": 12,
   "metadata": {},
   "outputs": [
    {
     "name": "stdout",
     "output_type": "stream",
     "text": [
      "2 4 6 8 10 12 14 16 18 \n",
      "3 6 9 12 15 18 21 24 27 \n",
      "4 8 12 16 20 24 28 32 36 \n",
      "5 10 15 20 25 30 35 40 45 \n",
      "6 12 18 24 30 36 42 48 54 \n",
      "7 14 21 28 35 42 49 56 63 \n",
      "8 16 24 32 40 48 56 64 72 \n",
      "9 18 27 36 45 54 63 72 81 \n"
     ]
    }
   ],
   "source": [
    "for i in range(2,10):\n",
    "    for j in range(1,10):\n",
    "        print(i*j, end=\" \")\n",
    "    print(\"\")"
   ]
  },
  {
   "cell_type": "code",
   "execution_count": 14,
   "metadata": {},
   "outputs": [
    {
     "name": "stdout",
     "output_type": "stream",
     "text": [
      "1 * 1 = 1\n",
      "2 * 2 = 4\n",
      "3 * 3 = 9\n"
     ]
    }
   ],
   "source": [
    "tlist = [1,2,3]\n",
    "for i in tlist:\n",
    "    print(\"{} * {} = {}\".format(i, i, i*i))"
   ]
  },
  {
   "cell_type": "code",
   "execution_count": 17,
   "metadata": {},
   "outputs": [
    {
     "name": "stdout",
     "output_type": "stream",
     "text": [
      "['adbkd', 'py']\n",
      "adbkd\n",
      "py\n"
     ]
    }
   ],
   "source": [
    "fn = \"adbkd.py\"\n",
    "fname = fn.split(\".\")\n",
    "print(fname)\n",
    "print(fname[0])\n",
    "print(fname[1])"
   ]
  },
  {
   "cell_type": "code",
   "execution_count": 25,
   "metadata": {},
   "outputs": [
    {
     "name": "stdout",
     "output_type": "stream",
     "text": [
      "[0, 1, 2, 3, 4, 5, 6, 7, 8, 9]\n",
      "[2002, 2006, 2010, 2014, 2018, 2022, 2026, 2030, 2034, 2038, 2042, 2046]\n"
     ]
    }
   ],
   "source": [
    "print(list(range(10)))\n",
    "print(list(range(2002,2050,4)))"
   ]
  },
  {
   "cell_type": "code",
   "execution_count": 30,
   "metadata": {},
   "outputs": [
    {
     "name": "stdout",
     "output_type": "stream",
     "text": [
      "2 * 1 = 2\n",
      "2 * 2 = 4\n",
      "2 * 3 = 6\n",
      "2 * 4 = 8\n",
      "2 * 5 = 10\n",
      "2 * 6 = 12\n",
      "2 * 7 = 14\n",
      "2 * 8 = 16\n",
      "2 * 9 = 18\n",
      "\n",
      "3 * 1 = 3\n",
      "3 * 2 = 6\n",
      "3 * 3 = 9\n",
      "3 * 4 = 12\n",
      "3 * 5 = 15\n",
      "3 * 6 = 18\n",
      "3 * 7 = 21\n",
      "3 * 8 = 24\n",
      "3 * 9 = 27\n",
      "\n",
      "4 * 1 = 4\n",
      "4 * 2 = 8\n",
      "4 * 3 = 12\n",
      "4 * 4 = 16\n",
      "4 * 5 = 20\n",
      "4 * 6 = 24\n",
      "4 * 7 = 28\n",
      "4 * 8 = 32\n",
      "4 * 9 = 36\n",
      "\n",
      "5 * 1 = 5\n",
      "5 * 2 = 10\n",
      "5 * 3 = 15\n",
      "5 * 4 = 20\n",
      "5 * 5 = 25\n",
      "5 * 6 = 30\n",
      "5 * 7 = 35\n",
      "5 * 8 = 40\n",
      "5 * 9 = 45\n",
      "\n",
      "6 * 1 = 6\n",
      "6 * 2 = 12\n",
      "6 * 3 = 18\n",
      "6 * 4 = 24\n",
      "6 * 5 = 30\n",
      "6 * 6 = 36\n",
      "6 * 7 = 42\n",
      "6 * 8 = 48\n",
      "6 * 9 = 54\n",
      "\n",
      "7 * 1 = 7\n",
      "7 * 2 = 14\n",
      "7 * 3 = 21\n",
      "7 * 4 = 28\n",
      "7 * 5 = 35\n",
      "7 * 6 = 42\n",
      "7 * 7 = 49\n",
      "7 * 8 = 56\n",
      "7 * 9 = 63\n",
      "\n",
      "8 * 1 = 8\n",
      "8 * 2 = 16\n",
      "8 * 3 = 24\n",
      "8 * 4 = 32\n",
      "8 * 5 = 40\n",
      "8 * 6 = 48\n",
      "8 * 7 = 56\n",
      "8 * 8 = 64\n",
      "8 * 9 = 72\n",
      "\n",
      "9 * 1 = 9\n",
      "9 * 2 = 18\n",
      "9 * 3 = 27\n",
      "9 * 4 = 36\n",
      "9 * 5 = 45\n",
      "9 * 6 = 54\n",
      "9 * 7 = 63\n",
      "9 * 8 = 72\n",
      "9 * 9 = 81\n",
      "\n"
     ]
    }
   ],
   "source": [
    "for i in range(2,10):\n",
    "    for j in range(1,10):\n",
    "        print(\"{} * {} = {}\".format(i,j,i*j))\n",
    "    print(\"\")"
   ]
  },
  {
   "cell_type": "code",
   "execution_count": 36,
   "metadata": {},
   "outputs": [
    {
     "name": "stdout",
     "output_type": "stream",
     "text": [
      "0 25\n",
      "1 30\n",
      "2 53\n",
      "3 54\n",
      "\n",
      "3 54\n"
     ]
    }
   ],
   "source": [
    "plist = [25,30,53,54]\n",
    "for i, data in enumerate(plist):\n",
    "    print(i, data)\n",
    "    if i==3:\n",
    "        print(\"\")\n",
    "        print(i, data)"
   ]
  },
  {
   "cell_type": "code",
   "execution_count": 48,
   "metadata": {},
   "outputs": [
    {
     "name": "stdout",
     "output_type": "stream",
     "text": [
      "302\n",
      "301\n",
      "---\n",
      "202\n",
      "201\n",
      "---\n",
      "102\n",
      "101\n",
      "---\n",
      "\n",
      "302\n",
      "301\n",
      "----\n",
      "202\n",
      "201\n",
      "----\n",
      "102\n",
      "101\n",
      "----\n"
     ]
    }
   ],
   "source": [
    "apart = [[101,102],[201,202],[301,302]]\n",
    "result = []\n",
    "for row in apart[::-1]:\n",
    "    for col in row[::-1]:\n",
    "        print(col)\n",
    "        result.append(col)\n",
    "    print(\"-\"*3)\n",
    "    result.append(\"-\"*4)\n",
    "print(\"\")\n",
    "for a in result:\n",
    "    print(a)"
   ]
  },
  {
   "cell_type": "code",
   "execution_count": 50,
   "metadata": {},
   "outputs": [
    {
     "name": "stdout",
     "output_type": "stream",
     "text": [
      "비트코인\n"
     ]
    }
   ],
   "source": [
    "def bit_coin():\n",
    "    print(\"비트코인\")\n",
    "bit_coin()"
   ]
  },
  {
   "cell_type": "code",
   "execution_count": 52,
   "metadata": {},
   "outputs": [
    {
     "name": "stdout",
     "output_type": "stream",
     "text": [
      "edcba\n"
     ]
    }
   ],
   "source": [
    "strd = \"abcde\"\n",
    "print(strd[::-1])"
   ]
  },
  {
   "cell_type": "code",
   "execution_count": 63,
   "metadata": {},
   "outputs": [
    {
     "name": "stdout",
     "output_type": "stream",
     "text": [
      "105 / 3\n",
      "35.0\n",
      "\n",
      "30\n",
      "40\n"
     ]
    }
   ],
   "source": [
    "sc = [35,30,40]\n",
    "print(\"{} / {}\\n{}\".format(sum(sc),len(sc),sum(sc)/len(sc)))\n",
    "print(\"\")\n",
    "for i in sc:\n",
    "    if i % 2 == 0:\n",
    "        print(i)"
   ]
  },
  {
   "cell_type": "code",
   "execution_count": 67,
   "metadata": {},
   "outputs": [
    {
     "data": {
      "text/plain": [
       "[4, 6, 8]"
      ]
     },
     "execution_count": 67,
     "metadata": {},
     "output_type": "execute_result"
    }
   ],
   "source": [
    "def pickup_even(items):\n",
    "    result = []\n",
    "    for item in items:\n",
    "        if item % 2 == 0:\n",
    "            result.append(item)\n",
    "    return result\n",
    "pickup_even([3,4,5,6,7,8])"
   ]
  },
  {
   "cell_type": "code",
   "execution_count": 78,
   "metadata": {},
   "outputs": [
    {
     "name": "stdout",
     "output_type": "stream",
     "text": [
      "2020-10-16 18:05:04.747175 <class 'datetime.datetime'>\n",
      "\n",
      "5 days, 0:00:00\n",
      "2020-10-11 18:05:04.747175\n",
      "4 days, 0:00:00\n",
      "2020-10-12 18:05:04.747175\n",
      "3 days, 0:00:00\n",
      "2020-10-13 18:05:04.747175\n",
      "2 days, 0:00:00\n",
      "2020-10-14 18:05:04.747175\n",
      "1 day, 0:00:00\n",
      "2020-10-15 18:05:04.747175\n",
      "\n",
      "2020-10-05 00:00:00\n"
     ]
    }
   ],
   "source": [
    "import datetime\n",
    "now = datetime.datetime.now()\n",
    "print(now, type(now))\n",
    "print(\"\")\n",
    "for day in range(5,0,-1):\n",
    "    delta = datetime.timedelta(days=day)\n",
    "    print(delta)\n",
    "    date = now - delta\n",
    "    print(date)\n",
    "print(\"\")\n",
    "datestr = \"2020-10-5\"\n",
    "print(datetime.datetime.strptime(datestr,\"%Y-%m-%d\"))"
   ]
  },
  {
   "cell_type": "code",
   "execution_count": 80,
   "metadata": {},
   "outputs": [
    {
     "name": "stdout",
     "output_type": "stream",
     "text": [
      "2020-10-16 18:06:57.839282\n",
      "2020-10-16 18:06:58.840013\n",
      "2020-10-16 18:06:59.840058\n",
      "2020-10-16 18:07:00.841138\n",
      "2020-10-16 18:07:01.841171\n"
     ]
    }
   ],
   "source": [
    "import time\n",
    "import datetime\n",
    "#while True:\n",
    "for i in range(5):\n",
    "    now = datetime.datetime.now()\n",
    "    print(now)\n",
    "    time.sleep(1)"
   ]
  },
  {
   "cell_type": "code",
   "execution_count": 81,
   "metadata": {},
   "outputs": [
    {
     "name": "stdout",
     "output_type": "stream",
     "text": [
      "C:\\Users\\molo\\jNote <class 'str'>\n"
     ]
    }
   ],
   "source": [
    "import os\n",
    "ret = os.getcwd()\n",
    "print(ret, type(ret))"
   ]
  },
  {
   "cell_type": "code",
   "execution_count": 15,
   "metadata": {},
   "outputs": [
    {
     "name": "stdout",
     "output_type": "stream",
     "text": [
      "아름\n",
      "24\n",
      "이름:아름 나이:25 성별:여자\n",
      "이름:아름 나이:25 성별:여자\n"
     ]
    }
   ],
   "source": [
    "class Human:\n",
    "    def __init__(self, name, age, sex):\n",
    "        self.name = name\n",
    "        self.age = age\n",
    "        self.sex = sex\n",
    "#         print(\"응애응애\")\n",
    "    def who(self):\n",
    "        print(\"이름:{} 나이:{} 성별:{}\".format(self.name, self.age, self.sex))\n",
    "    def setInfo(self, name, age, sex):\n",
    "        self.name = name\n",
    "        self.age = age\n",
    "        self.sex = sex\n",
    "        \n",
    "areum = Human(\"아름\", 24, \"여자\")\n",
    "print(areum.name)\n",
    "print(areum.age)\n",
    "\n",
    "areum.setInfo(\"아름\", 25, \"여자\")\n",
    "areum.who()\n",
    "Human.who(areum)\n",
    "del(areum)"
   ]
  },
  {
   "cell_type": "code",
   "execution_count": 21,
   "metadata": {},
   "outputs": [
    {
     "name": "stdout",
     "output_type": "stream",
     "text": [
      "Oh My God\n",
      "Oh My God\n"
     ]
    }
   ],
   "source": [
    "class OMG:\n",
    "    def print(self):\n",
    "        print(\"Oh My God\")\n",
    "\n",
    "mystock = OMG()\n",
    "mystock.print()\n",
    "OMG.print(mystock)"
   ]
  },
  {
   "cell_type": "code",
   "execution_count": 25,
   "metadata": {},
   "outputs": [
    {
     "name": "stdout",
     "output_type": "stream",
     "text": [
      "삼성전자\n",
      "3434343\n"
     ]
    }
   ],
   "source": [
    "class Stock:\n",
    "    def __init__(self, name, code):\n",
    "        self.name = name\n",
    "        self.code = code\n",
    "    def set_name(self, name):\n",
    "        self.name = name\n",
    "    def set_code(self, code):\n",
    "        self.code = code\n",
    "\n",
    "a = Stock(None, None)\n",
    "a.set_name(\"삼성전자\")\n",
    "a.set_code(\"3434343\")\n",
    "print(a.name)\n",
    "print(a.code)"
   ]
  },
  {
   "cell_type": "code",
   "execution_count": 37,
   "metadata": {},
   "outputs": [
    {
     "name": "stdout",
     "output_type": "stream",
     "text": [
      "2\n",
      "\n",
      "은행이름: SC은행\n",
      "예금주: 이민수\n",
      "계좌번호: 352-58-485330\n",
      "잔고: 100\n",
      "\n",
      "은행이름: SC은행\n",
      "예금주: 이민수\n",
      "계좌번호: 352-58-485330\n",
      "잔고: 5151.0\n",
      "\n",
      "은행이름: SC은행\n",
      "예금주: 이민수\n",
      "계좌번호: 352-58-485330\n",
      "잔고: 5151.0\n",
      "deposit: 1000\n",
      "deposit: 1000\n",
      "deposit: 1000\n",
      "deposit: 1000\n",
      "deposit: 1000\n"
     ]
    }
   ],
   "source": [
    "import random\n",
    "class Account:\n",
    "    account_count = 0\n",
    "    def __init__(self, name, balance):\n",
    "        self.deposit_count = 0\n",
    "        self.deposit_log = []\n",
    "        self.withdraw_log = []\n",
    "        self.name = name\n",
    "        self.balance = balance\n",
    "        self.bank = \"SC은행\"\n",
    "        \n",
    "        num1 = random.randint(0,999)\n",
    "        num2 = random.randint(0,99)\n",
    "        num3 = random.randint(0,999999)\n",
    "        \n",
    "        num1 = str(num1).zfill(3)\n",
    "        num2 = str(num2).zfill(2)\n",
    "        num3 = str(num3).zfill(6)\n",
    "        self.account_number = num1 + '-' + num2 + '-' + num3\n",
    "        \n",
    "        Account.account_count += 1\n",
    "\n",
    "    def get_account_num(cls):\n",
    "        print(cls.account_count)\n",
    "    \n",
    "    def deposit(self, amount):\n",
    "        if amount >= 1:\n",
    "            self.balance += amount\n",
    "            self.deposit_log.append(amount)\n",
    "            \n",
    "            self.deposit_count += 1\n",
    "            if self.deposit_count % 5 == 0:\n",
    "                self.balance = (self.balance * 1.01)\n",
    "    \n",
    "    def withdraw(self, amount):\n",
    "        if self.balance > amount:\n",
    "            self.withdraw_log.append(amount)\n",
    "            self.balance -= amount\n",
    "    \n",
    "    def display_info(self):\n",
    "        print(\"은행이름:\", self.bank)\n",
    "        print(\"예금주:\", self.name)\n",
    "        print(\"계좌번호:\", self.account_number)\n",
    "        print(\"잔고:\", self.balance)\n",
    "    \n",
    "    def deposit_history(self):\n",
    "        for amount in self.deposit_log:\n",
    "            print(\"deposit:\", amount)\n",
    "\n",
    "    def withdraw_history(self):\n",
    "        for amount in self.withdraw_log:\n",
    "            print(\"withdraw:\",amount)\n",
    "\n",
    "        \n",
    "kim = Account(\"김민수\", 100)\n",
    "lee = Account(\"이민수\", 100)\n",
    "kim.get_account_num()\n",
    "print(\"\")\n",
    "lee.display_info()\n",
    "print(\"\")\n",
    "lee.deposit(1000)\n",
    "lee.deposit(1000)\n",
    "lee.deposit(1000)\n",
    "lee.deposit(1000)\n",
    "lee.deposit(1000)\n",
    "lee.display_info()\n",
    "print(\"\")\n",
    "data = []\n",
    "data.append(kim)\n",
    "data.append(lee)\n",
    "for c in data:\n",
    "    if c.balance >= 1000:\n",
    "        c.display_info()\n",
    "        c.deposit_history()\n",
    "        c.withdraw_history()"
   ]
  },
  {
   "cell_type": "code",
   "execution_count": 52,
   "metadata": {},
   "outputs": [
    {
     "name": "stdout",
     "output_type": "stream",
     "text": [
      "바퀴수: 2\n",
      "가격: 100\n",
      "구동계: 모터\n",
      "\n",
      "바퀴수: 4\n",
      "가격: 100\n"
     ]
    }
   ],
   "source": [
    "class 차:\n",
    "    def __init__(self, 바퀴, 가격):\n",
    "        self.바퀴 = 바퀴\n",
    "        self.가격 = 가격\n",
    "    def 정보(self):\n",
    "        print(\"바퀴수:\", self.바퀴)\n",
    "        print(\"가격:\", self.가격)\n",
    "\n",
    "class 자전차(차):\n",
    "    def __init__(self, 바퀴, 가격, 구동계):\n",
    "        super().__init__(바퀴, 가격)\n",
    "#         차.__init__(self, 바퀴, 가격)\n",
    "        self.구동계 = 구동계\n",
    "    def 정보(self):\n",
    "        super().정보()\n",
    "        print(\"구동계:\", self.구동계)\n",
    "\n",
    "class 자동자(차):\n",
    "    def __init__(self, 바퀴, 가격):\n",
    "        super().__init__(바퀴, 가격)\n",
    "\n",
    "bycycle = 자전차(2, 100, \"모터\")\n",
    "bycycle.정보()\n",
    "print(\"\")\n",
    "car = 자동자(4, 100)\n",
    "car.정보()"
   ]
  },
  {
   "cell_type": "code",
   "execution_count": 57,
   "metadata": {},
   "outputs": [
    {
     "name": "stdout",
     "output_type": "stream",
     "text": [
      "자식생성\n",
      "부모생성\n",
      "\n",
      "자식호출\n"
     ]
    }
   ],
   "source": [
    "class 부모:\n",
    "    def __init__(self):\n",
    "        print(\"부모생성\")\n",
    "    def 호출(self):\n",
    "        print(\"부모호출\")\n",
    "\n",
    "class 자식(부모):\n",
    "    def __init__(self):\n",
    "        print(\"자식생성\")\n",
    "        super().__init__()\n",
    "    def 호출(self):\n",
    "        print(\"자식호출\")\n",
    "\n",
    "나 = 자식()\n",
    "print(\"\")\n",
    "나.호출()"
   ]
  },
  {
   "cell_type": "code",
   "execution_count": 59,
   "metadata": {},
   "outputs": [],
   "source": [
    "f = open(\"note.txt\", mode=\"wt\", encoding=\"utf-8\")\n",
    "f.write(\"23523\\n\")\n",
    "f.write(\"23522\\n\")\n",
    "f.write(\"23521\")\n",
    "f.close()"
   ]
  },
  {
   "cell_type": "code",
   "execution_count": 69,
   "metadata": {},
   "outputs": [
    {
     "name": "stdout",
     "output_type": "stream",
     "text": [
      "['23523', '23522', '23521']\n"
     ]
    }
   ],
   "source": [
    "f = open(\"note.txt\", encoding=\"utf-8\")\n",
    "lines = f.readlines()\n",
    "codes = []\n",
    "for line in lines:\n",
    "    code = line.strip()\n",
    "    codes.append(code)\n",
    "f.close()\n",
    "print(codes)"
   ]
  },
  {
   "cell_type": "code",
   "execution_count": 82,
   "metadata": {},
   "outputs": [
    {
     "name": "stdout",
     "output_type": "stream",
     "text": [
      "10.31 clean data 완료\n",
      "0 완료\n",
      "8.0 clean data 완료\n"
     ]
    }
   ],
   "source": [
    "per = [\"10.31\", \"\", \"8.00\"]\n",
    "for i in per:\n",
    "    try:\n",
    "#         print(type(i))\n",
    "        print(float(i), end=\" \")\n",
    "    except:\n",
    "        print(0, end=\" \")\n",
    "    else:\n",
    "        print(\"clean data\", end=\" \")\n",
    "    finally:\n",
    "        print(\"완료\")"
   ]
  },
  {
   "cell_type": "code",
   "execution_count": 77,
   "metadata": {},
   "outputs": [
    {
     "name": "stdout",
     "output_type": "stream",
     "text": [
      "0으로 나누면 안됨\n"
     ]
    }
   ],
   "source": [
    "try:\n",
    "    b = 3/0\n",
    "except ZeroDivisionError:\n",
    "    print(\"0으로 나누면 안됨\")"
   ]
  },
  {
   "cell_type": "code",
   "execution_count": null,
   "metadata": {},
   "outputs": [],
   "source": []
  }
 ],
 "metadata": {
  "kernelspec": {
   "display_name": "Python 3",
   "language": "python",
   "name": "python3"
  },
  "language_info": {
   "codemirror_mode": {
    "name": "ipython",
    "version": 3
   },
   "file_extension": ".py",
   "mimetype": "text/x-python",
   "name": "python",
   "nbconvert_exporter": "python",
   "pygments_lexer": "ipython3",
   "version": "3.7.3"
  }
 },
 "nbformat": 4,
 "nbformat_minor": 4
}

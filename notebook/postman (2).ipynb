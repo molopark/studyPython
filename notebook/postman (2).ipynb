{
 "cells": [
  {
   "cell_type": "markdown",
   "metadata": {},
   "source": [
    "### request 를 이용한 웹크롤링\n",
    "- python 으로 rest api 호출"
   ]
  },
  {
   "cell_type": "code",
   "execution_count": 1,
   "metadata": {},
   "outputs": [
    {
     "output_type": "stream",
     "name": "stdout",
     "text": "접수번호         업무구분     가입/해지    내용\n 20200715SKT0000011      0300          해지    해지요청\n 20200715SKT0000010      0300          해지    해지요청\n 20200715SKT0000001      0300          해지    해지요청\n 20200715SKT0000001      0300          해지    해지요청\n 20200715SKT0000009      0300          해지    해지요청\n 20200715SKT0000008      0300          해지    해지요청\n 20200715SKT0000007      0300          해지    해지요청\n 20200715SKT0000006      0300          해지    해지요청\n 20200715SKT0000005      0300          해지    해지요청\n 20200715SKT0000004      0300          해지    해지요청\n 20200715SKT0000003      0300          해지    해지요청\n 20200715SKT0000002      0300          해지    해지요청\n 20200715SKT0000001      0300          해지    해지요청\n 20200714SKT0000008      0300          해지    해지요청\n 20200714SKT0000007      0300          해지    해지요청\n 20200714SKT0000006      0300          해지    해지요청\n 20200714SKT0000005      0300          해지    해지요청 / 원접수번호:20200714SKT0000003\n 20200714SKT0000004      0300          해지    해지요청 / 원접수번호:20200714SKT0000003\n 20200714SKT0000003      0300          해지    해지요청\n 20200714SKT0000002      0300          해지    해지요청\n 20200714SKT0000001      0300          해지    해지요청\n 20200713SKT0000102      0300          해지    해지요청\n 20200713SKT0009005      0300          해지    해지요청\n 20200713SKT0009004      0300          해지    해지요청\n 20200713SKT0009003      0300          해지    해지요청\n 20200713SKT0009002      0300          해지    해지요청\n 20200713SKT0009001      0300          해지    해지요청\n 20200713SKT0009000      0300          해지    해지요청\n 20200713SKT0001000      0300          해지    해지요청\n 20200713SKT0001000      0300          해지    해지요청\n 20200713SKT0000102      0300          해지    해지요청\n 20200713SKT0000102      0300          해지    해지요청\n"
    }
   ],
   "source": [
    "import requests\n",
    "import json\n",
    "\n",
    "#get\n",
    "# domain = 'http://local.skylife.co.kr:8080'\n",
    "domain = 'http://test-scis.skylife.co.kr'\n",
    "url = '/api/irs/osc/status/selectList?bizEtps=ALL&dtFr=20200712&dtTo=20200714&procDt=20200712&procYn=Y&recvNo=&searchRecvNo='\n",
    "resp = requests.get(domain+url)\n",
    "# print(resp.text)\n",
    "\n",
    "json_data = json.loads(resp.text)\n",
    "# print(len(json_data))\n",
    "\n",
    "print(\"{0:^18}{1:^8}{2:^12}{3:^}\".format(\"접수번호\", \"업무구분\", \"가입/해지\", \"내용\"))\n",
    "for data in json_data:\n",
    "    print(\"{0:^20}{1:^15}{2:^10}{3}\".format(data['recvNo'], data['bizTypeCd'], data['procVal01'], data['bizTypeName']))"
   ]
  },
  {
   "cell_type": "code",
   "execution_count": 28,
   "metadata": {},
   "outputs": [
    {
     "output_type": "stream",
     "name": "stdout",
     "text": "접수번호         업무구분       내용     처리일자\n 20200721OSS0000000      0100          개시    20200721\n"
    }
   ],
   "source": [
    "import requests\n",
    "import json\n",
    "\n",
    "#get\n",
    "domain = 'http://ec.skylife.co.kr'\n",
    "url = '/api/irs/osc/status/selectList?bizEtps=ALL&dtFr=20200721&dtTo=20200721&procDt=20200721&procYn=work&recvNo=&searchRecvNo='\n",
    "\n",
    "resp = requests.get(domain+url)\n",
    "# print(resp.text)\n",
    "\n",
    "json_data = json.loads(resp.text)\n",
    "# print(len(json_data))\n",
    "\n",
    "print(\"{0:^18}{1:^8}{2:^12}{3:^}\".format(\"접수번호\", \"업무구분\", \"내용\", \"처리일자\"))\n",
    "for data in json_data:\n",
    "    print(\"{0:^20}{1:^15}{2:^10}{3}\".format(data['recvNo'], data['bizTypeCd'], data['bizTypeName'], data['procDt']))"
   ]
  },
  {
   "cell_type": "code",
   "execution_count": 2,
   "metadata": {},
   "outputs": [
    {
     "output_type": "stream",
     "name": "stdout",
     "text": "N\n"
    }
   ],
   "source": [
    "import requests\n",
    "import json\n",
    "\n",
    "#post\n",
    "# domain = 'http://local.skylife.co.kr:8080'\n",
    "domain = 'http://test-scis.skylife.co.kr'\n",
    "# url = '/api/irs/osc/status/selectList'\n",
    "url = '/api/irs/osc/status/isHolidayChk'\n",
    "\n",
    "dic = {\"bizEtps\":\"ALL\", \"dtFr\":\"20200712\", \"dtTo\":\"20200715\", \"procDt\":\"20200712\", \"procYn\":\"Y\", \"recvNo\":\"\", \"searchRecvNo\":\"\"}\n",
    "resp = requests.post(domain+url, data=dic)\n",
    "\n",
    "print(resp.text)"
   ]
  },
  {
   "cell_type": "code",
   "execution_count": null,
   "metadata": {},
   "outputs": [],
   "source": []
  }
 ],
 "metadata": {
  "kernelspec": {
   "display_name": "Python 3",
   "language": "python",
   "name": "python3"
  },
  "language_info": {
   "codemirror_mode": {
    "name": "ipython",
    "version": 3
   },
   "file_extension": ".py",
   "mimetype": "text/x-python",
   "name": "python",
   "nbconvert_exporter": "python",
   "pygments_lexer": "ipython3",
   "version": "3.7.3-final"
  }
 },
 "nbformat": 4,
 "nbformat_minor": 4
}
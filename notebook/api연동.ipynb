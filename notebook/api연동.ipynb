{
 "cells": [
  {
   "cell_type": "code",
   "execution_count": 1,
   "metadata": {},
   "outputs": [
    {
     "name": "stdout",
     "output_type": "stream",
     "text": [
      "5G\n",
      "5G 모두 충분\n",
      "음성 : 무제한 (영상/부가 300분) / 데이터 : 10GB+1Mbps / 문자 : 무제한 / WiFi : 무료 / QOS : 1Mbps\n",
      "LTE\n",
      "데이터 충분 15GB+\n",
      "음성 : 100분 (+1회선망내무한) / 데이터 : 15GB+3Mbps / 문자 : 100건 / WiFi : 무료 / QOS : 3Mbps\n",
      "LTE\n",
      "모두 충분 1.4GB+\n",
      "음성 : 무제한 (영상/부가 50분) / 데이터 : 1.4GB+1Mbps / 문자 : 무제한 / WiFi : 무료 / QOS : 1Mbps\n",
      "LTE\n",
      "모두 충분 100GB+\n",
      "음성 : 무제한 (영상/부가 300분) / 데이터 : 100GB+5Mbps / 문자 : 무제한 / WiFi : 무료 / QOS : 5Mbps\n",
      "LTE\n",
      "모두 충분 10GB+\n",
      "음성 : 무제한 (영상/부가 200분) / 데이터 : 10GB+2GB+3Mbps / 문자 : 무제한 / WiFi : 무료 / QOS : 3Mbps\n",
      "LTE\n",
      "베이직 (베이직 3G)\n",
      "음성 : 100분 / 데이터 : 3GB / 문자 : 100건 / WiFi : 무료 / QOS : 0\n",
      "LTE\n",
      "스페셜\n",
      "음성 : 100분 / 데이터 : 10GB / 문자 : 100건 / WiFi : 무료 / QOS : -\n",
      "LTE\n",
      "슬림\n",
      "음성 : 40분 / 데이터 : 1.2GB / 문자 : - / WiFi : - / QOS : -\n",
      "LTE\n",
      "이코노미\n",
      "음성 : 100분 / 데이터 : 1GB / 문자 : 100건 / WiFi : 무료 / QOS : -\n",
      "LTE\n",
      "통화 충분 5GB\n",
      "음성 : 무제한 / 데이터 : 5GB / 문자 : 무제한 / WiFi : 무료 / QOS : -\n"
     ]
    }
   ],
   "source": [
    "import requests\n",
    "import json\n",
    "\n",
    "url = \"http://192.168.42.231/api/mvnombl/intnsvc/retrvMblPrdtInfoList\"\n",
    "response = requests.get(url = url)\n",
    "data = json.loads(response.text)\n",
    "\n",
    "# print(type(data))\n",
    "pList = data['ppPrdtList']\n",
    "# print(type(pList))\n",
    "# print(pList)\n",
    "for p in pList:\n",
    "    if p['prdtTypeCd'] == '02':\n",
    "        print('LTE')\n",
    "    else:\n",
    "        print('5G')\n",
    "#     print(p['prdtTypeCd'])\n",
    "    print(p['prdtNm'])\n",
    "    print(p['dtlDesc'])"
   ]
  },
  {
   "cell_type": "code",
   "execution_count": null,
   "metadata": {},
   "outputs": [],
   "source": []
  }
 ],
 "metadata": {
  "kernelspec": {
   "display_name": "Python 3",
   "language": "python",
   "name": "python3"
  },
  "language_info": {
   "codemirror_mode": {
    "name": "ipython",
    "version": 3
   },
   "file_extension": ".py",
   "mimetype": "text/x-python",
   "name": "python",
   "nbconvert_exporter": "python",
   "pygments_lexer": "ipython3",
   "version": "3.7.3"
  }
 },
 "nbformat": 4,
 "nbformat_minor": 4
}

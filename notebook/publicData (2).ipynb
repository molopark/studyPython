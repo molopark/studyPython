{
 "cells": [
  {
   "cell_type": "markdown",
   "metadata": {},
   "source": [
    "# 공공데이터를 이용한 관광지 날씨 정보"
   ]
  },
  {
   "cell_type": "code",
   "execution_count": 4,
   "metadata": {},
   "outputs": [
    {
     "ename": "UnsupportedOperation",
     "evalue": "detach",
     "output_type": "error",
     "traceback": [
      "\u001b[1;31m---------------------------------------------------------------------------\u001b[0m",
      "\u001b[1;31mUnsupportedOperation\u001b[0m                      Traceback (most recent call last)",
      "\u001b[1;32m<ipython-input-4-0be8af193247>\u001b[0m in \u001b[0;36m<module>\u001b[1;34m\u001b[0m\n\u001b[0;32m      5\u001b[0m \u001b[1;32mimport\u001b[0m \u001b[0mio\u001b[0m\u001b[1;33m\u001b[0m\u001b[1;33m\u001b[0m\u001b[0m\n\u001b[0;32m      6\u001b[0m \u001b[1;33m\u001b[0m\u001b[0m\n\u001b[1;32m----> 7\u001b[1;33m \u001b[0msys\u001b[0m\u001b[1;33m.\u001b[0m\u001b[0mstdout\u001b[0m \u001b[1;33m=\u001b[0m \u001b[0mio\u001b[0m\u001b[1;33m.\u001b[0m\u001b[0mTextIOWrapper\u001b[0m\u001b[1;33m(\u001b[0m\u001b[0msys\u001b[0m\u001b[1;33m.\u001b[0m\u001b[0mstdout\u001b[0m\u001b[1;33m.\u001b[0m\u001b[0mdetach\u001b[0m\u001b[1;33m(\u001b[0m\u001b[1;33m)\u001b[0m\u001b[1;33m,\u001b[0m \u001b[0mencoding\u001b[0m \u001b[1;33m=\u001b[0m \u001b[1;34m'utf-8'\u001b[0m\u001b[1;33m)\u001b[0m\u001b[1;33m\u001b[0m\u001b[1;33m\u001b[0m\u001b[0m\n\u001b[0m\u001b[0;32m      8\u001b[0m \u001b[0msys\u001b[0m\u001b[1;33m.\u001b[0m\u001b[0mstderr\u001b[0m \u001b[1;33m=\u001b[0m \u001b[0mio\u001b[0m\u001b[1;33m.\u001b[0m\u001b[0mTextIOWrapper\u001b[0m\u001b[1;33m(\u001b[0m\u001b[0msys\u001b[0m\u001b[1;33m.\u001b[0m\u001b[0mstderr\u001b[0m\u001b[1;33m.\u001b[0m\u001b[0mdetach\u001b[0m\u001b[1;33m(\u001b[0m\u001b[1;33m)\u001b[0m\u001b[1;33m,\u001b[0m \u001b[0mencoding\u001b[0m \u001b[1;33m=\u001b[0m \u001b[1;34m'utf-8'\u001b[0m\u001b[1;33m)\u001b[0m\u001b[1;33m\u001b[0m\u001b[1;33m\u001b[0m\u001b[0m\n\u001b[0;32m      9\u001b[0m \u001b[1;31m#아톰에디터 한글사용을 위한 구문\u001b[0m\u001b[1;33m\u001b[0m\u001b[1;33m\u001b[0m\u001b[1;33m\u001b[0m\u001b[0m\n",
      "\u001b[1;31mUnsupportedOperation\u001b[0m: detach"
     ]
    }
   ],
   "source": [
    "import urllib.request as ul\n",
    "import xmltodict\n",
    "import json\n",
    "import sys\n",
    "import io\n",
    "\n",
    "sys.stdout = io.TextIOWrapper(sys.stdout.detach(), encoding = 'utf-8')\n",
    "sys.stderr = io.TextIOWrapper(sys.stderr.detach(), encoding = 'utf-8')\n",
    "#아톰에디터 한글사용을 위한 구문\n",
    "\n",
    "url = \"http://newsky2.kma.go.kr/service/TourSpotInfoService/SpotShrtData?serviceKey=rhQDlfFMowrdHmcifkhfvlyhS3reeXiggW2NfXrrR5xDceaGCtAlaA3uSwix87ZABqYn4pLGHD6diZHJH7kiTA%3D%3D&CURRENT_DATE=2018082700&HOUR=12&COURSE_ID=1&numOfRows=1\"\n",
    "#데이터를 받을 url\n",
    " \n",
    "request = ul.Request(url)\n",
    "#url의 데이터를 요청함\n",
    "\n",
    "response = ul.urlopen(request)\n",
    "#요청받은 데이터를 열어줌\n",
    "\n",
    "rescode = response.getcode()\n",
    "#제대로 데이터가 수신됐는지 확인하는 코드 성공시 200\n",
    "if(rescode == 200):\n",
    "    responseData = response.read()\n",
    "    #요청받은 데이터를 읽음\n",
    "    rD = xmltodict.parse(responseData)\n",
    "    #XML형식의 데이터를 dict형식으로 변환시켜줌\n",
    "\n",
    "    rDJ = json.dumps(rD)\n",
    "    #dict 형식의 데이터를 json형식으로 변환\n",
    "\n",
    "    rDD = json.loads(rDJ)\n",
    "    #json형식의 데이터를 dict 형식으로 변환\n",
    "    \n",
    "    print(rDD)\n",
    "    #정상적으로 데이터가 출력되는지 확인\n",
    "\n",
    "    w_data = rDD[\"response\"][\"body\"][\"items\"][\"item\"]\n",
    "    #해당 dict형식의 파일의 item을 사용하기 편하도록 w_data에 저장\n",
    "\n",
    "    print('관광지명 : '+w_data[\"spotName\"])\n",
    "    print('시간 : '+w_data[\"tm\"])\n",
    "    print('기온 : '+w_data[\"th3\"])\n",
    "    if (w_data[\"sky\"] == '1'):\n",
    "        print('하늘상태 : 맑음')\n",
    "    elif(w_data[\"sky\"] == '2'):\n",
    "        print('하늘상태 : 구름조금')\n",
    "    elif(w_data[\"sky\"] == '3'):\n",
    "        print('하늘상태 : 구름많음')\n",
    "    elif(w_data[\"sky\"] == '4'):\n",
    "        print('하늘상태 : 흐림')\n",
    "    elif(w_data[\"sky\"] == '5'):\n",
    "        print('하늘상태 : 비')\n",
    "    elif(w_data[\"sky\"] == '6' or w_data[\"sky\"] == '7'):\n",
    "        print('하늘상태 : 눈비')\n",
    "    elif(w_data[\"sky\"] == '8'):\n",
    "        print('하늘상태 : 눈')\n",
    "    else:\n",
    "        print('하늘상태 : ???')\n",
    "\n",
    "    print('강수확률 : '+w_data[\"pop\"])\n"
   ]
  },
  {
   "cell_type": "code",
   "execution_count": null,
   "metadata": {},
   "outputs": [],
   "source": []
  }
 ],
 "metadata": {
  "kernelspec": {
   "display_name": "Python 3",
   "language": "python",
   "name": "python3"
  },
  "language_info": {
   "codemirror_mode": {
    "name": "ipython",
    "version": 3
   },
   "file_extension": ".py",
   "mimetype": "text/x-python",
   "name": "python",
   "nbconvert_exporter": "python",
   "pygments_lexer": "ipython3",
   "version": "3.7.3"
  }
 },
 "nbformat": 4,
 "nbformat_minor": 4
}

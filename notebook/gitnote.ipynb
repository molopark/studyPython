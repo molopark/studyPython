{
 "cells": [
  {
   "cell_type": "code",
   "execution_count": null,
   "id": "781119ea",
   "metadata": {},
   "outputs": [],
   "source": [
    "# github 기본 명령어\n",
    "\n",
    "git config --global user.name \"이름\"\n",
    "git config --global user.email \"깃허브 메일주소\" // 매번 물어보는 귀찮음을 피하기 위해 설정.\n",
    "\n",
    "mkdir ~/MyProject   // 로컬 디렉토리 만들고\n",
    "cd ~/myproject      // 디렉토리로 들어가서\n",
    "git init            // 깃 명령어를 사용할 수 있는 디렉토리로 만든다.\n",
    "git status          // 현재 상태를 훑어보고\n",
    "git add 화일명.확장자  // 깃 주목 리스트에 화일을 추가하고 or\n",
    "git add .           // 이 명령은 현재 디렉토리의 모든 화일을 추가할 수 있다.\n",
    "git commit -m “현재형으로 설명” // 커밋해서 스냅샷을 찍는다.\n",
    "\n",
    "git remote add origin https://github.com/username/myproject.git // 로컬과 원격 저장소를 연결한다.\n",
    "git remote -v // 연결상태를 확인한다.\n",
    "git push origin master // 깃허브로 푸시한다.\n",
    "\n",
    "-------------------------------------------------------------------\n",
    "node.js 설치 : nodejs.org\n",
    "node-v10.13.0-x64.msi\n",
    "\n",
    "파이어베이스 CLI 설치\n",
    "npm install -g firebase-tools\n",
    "\n",
    "project 생성 : console.firebase.google.Compile\n",
    "프로젝트 생성, 인증(Authentication) , Database-RealtimeDatabase\n",
    "\n",
    "pc 디렉토리 생성 : \\firebase\\memoWeb\n",
    "이후 command 창에서 실행\n",
    "firebase login\n",
    "filebase list  : 프로젝트 목록\n",
    "firebase init : 프로젝트 이름 , 인증, database 선택\n",
    "\n",
    "서버 실행 : command 창에서\n",
    "firebase serve : 오류 발생시 안내문구 참고\n"
   ]
  },
  {
   "cell_type": "code",
   "execution_count": 4,
   "id": "b5b42c87",
   "metadata": {},
   "outputs": [
    {
     "name": "stdout",
     "output_type": "stream",
     "text": [
      "15 28 34 34 13 5 "
     ]
    }
   ],
   "source": [
    "import random\n",
    "\n",
    "for i in range(6):\n",
    "    number = random.randint(1,45)\n",
    "    print(number, end=' ')"
   ]
  },
  {
   "cell_type": "code",
   "execution_count": null,
   "id": "784c1389",
   "metadata": {},
   "outputs": [],
   "source": []
  }
 ],
 "metadata": {
  "kernelspec": {
   "display_name": "Python 3",
   "language": "python",
   "name": "python3"
  },
  "language_info": {
   "codemirror_mode": {
    "name": "ipython",
    "version": 3
   },
   "file_extension": ".py",
   "mimetype": "text/x-python",
   "name": "python",
   "nbconvert_exporter": "python",
   "pygments_lexer": "ipython3",
   "version": "3.9.2"
  }
 },
 "nbformat": 4,
 "nbformat_minor": 5
}

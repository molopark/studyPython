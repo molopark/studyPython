{
 "cells": [
  {
   "cell_type": "code",
   "execution_count": 2,
   "metadata": {},
   "outputs": [
    {
     "output_type": "stream",
     "name": "stdout",
     "text": "The solution is y = 21\n"
    }
   ],
   "source": [
    "from hashlib import sha256\n",
    "\n",
    "x = 5\n",
    "y = 0\n",
    "\n",
    "while sha256(f'{x*y}'.encode()).hexdigest()[-1] != \"0\":\n",
    "    y += 1\n",
    "\n",
    "print(f'The solution is y = {y}')"
   ]
  },
  {
   "cell_type": "code",
   "execution_count": 3,
   "metadata": {},
   "outputs": [
    {
     "output_type": "execute_result",
     "data": {
      "text/plain": "'6'"
     },
     "metadata": {},
     "execution_count": 3
    }
   ],
   "source": [
    "sha256(f'{5*21}'.encode()).hexdigest()[-2]"
   ]
  },
  {
   "cell_type": "code",
   "execution_count": 4,
   "metadata": {},
   "outputs": [
    {
     "output_type": "execute_result",
     "data": {
      "text/plain": "b'\\r\\n\\r\\n\\r\\n\\r\\n\\r\\n\\r\\n\\r\\n<html>\\r\\n<head>\\r\\n<title>SKY LIFE - \\xec\\xa0\\x84\\xeb\\x9e\\xb5\\xea\\xb3\\xa0\\xea\\xb0\\x9d\\xec\\xa0\\x95\\xeb\\xb3\\xb4\\xec\\x8b\\x9c\\xec\\x8a\\xa4\\xed\\x85\\x9c</title>\\r\\n<meta http-equiv=\"Content-Type\" content=\"text/html; charset=UTF-8\">\\r\\n<link rel=\"stylesheet\" href=\"/scis/css/kdb_admin.css\" type=\"text/css\">\\r\\n<script language=\"javascript\" src=\"/scis/script/common.js\"></script>\\r\\n<script language=\"javascript\" src=\"/scis/script/common_check.js\"></script>\\r\\n<script language=\"javascript\">\\r\\n<!--\\r\\n\\r\\nif(parent.frames.length > 0){\\r\\n\\ttop.location.href=\"/scis/logout\";\\r\\n}\\r\\n\\r\\nfunction fncCheck(chkForm, isFromSubmit){\\r\\n\\tvar isTrue = false;\\r\\n\\tif ( event == null || (event != null && event.keyCode == 13) ) {\\r\\n\\t\\tif (chkForm.userId.value == null || chkForm.userId.value == \"\") {\\r\\n\\t\\t\\tif ( event == null || (event != null && event.srcElement.name == \"password\") ) {\\r\\n\\t\\t\\t\\talert(chkForm.userId.alt   + \"\\xeb\\xa5\\xbc \\xec\\x9e\\x85\\xeb\\xa0\\xa5\\xed\\x95\\x98\\xec\\x84\\xb8\\xec\\x9a\\x94!\");\\r\\n\\t\\t\\t}\\r\\n\\t\\t\\tchkForm.userId.focus();\\r\\n\\t\\t\\tchkForm.userId.select();\\r\\n\\t\\t} else if (chkForm.password.value == null || chkForm.password.value == \"\") {\\r\\n \\t\\t\\t//if (event == null) {\\r\\n\\t\\t\\t//if ( event == null || (event != null && event.srcElement.name == \"birthyy\") ) {\\r\\n\\t\\t\\t\\talert(chkForm.password.alt + \"\\xeb\\xa5\\xbc \\xec\\x9e\\x85\\xeb\\xa0\\xa5\\xed\\x95\\x98\\xec\\x84\\xb8\\xec\\x9a\\x94!\");\\r\\n\\t\\t\\t//} \\r\\n\\t\\t\\tchkForm.password.focus();\\r\\n\\t\\t\\tchkForm.password.select();\\r\\n\\t\\t\\t/* \\t\\t}else if (chkForm.birthyy.value == null || chkForm.birthyy.value == \"\") {\\r\\n\\t\\t\\tif ( event == null || (event != null && event.srcElement.name == \"birthmm\") ) {\\r\\n\\t\\t\\t\\talert(chkForm.birthyy.alt + \"\\xec\\x9d\\x84 \\xec\\x9e\\x85\\xeb\\xa0\\xa5\\xed\\x95\\x98\\xec\\x84\\xb8\\xec\\x9a\\x94.\");\\r\\n\\t\\t\\t}\\r\\n\\t\\t\\tchkForm.birthyy.focus();\\r\\n\\t\\t\\tchkForm.birthyy.select();\\t\\r\\n\\t\\t}else if (chkForm.birthmm.value == null || chkForm.birthmm.value == \"\") {\\r\\n\\t\\t\\tif ( event == null || (event != null && event.srcElement.name == \"birthdd\") ) {\\r\\n\\t\\t\\t\\talert(chkForm.birthmm.alt + \"\\xec\\x9d\\x84 \\xec\\x9e\\x85\\xeb\\xa0\\xa5\\xed\\x95\\x98\\xec\\x84\\xb8\\xec\\x9a\\x94.\");\\r\\n\\t\\t\\t}\\r\\n\\t\\t\\tchkForm.birthmm.focus();\\r\\n\\t\\t\\tchkForm.birthmm.select();\\t\\t\\r\\n\\t\\t}else if (chkForm.birthdd.value == null || chkForm.birthdd.value == \"\") {\\r\\n\\t\\t\\tif (event == null) {\\r\\n\\t\\t\\t\\talert(chkForm.birthdd.alt + \"\\xec\\x9d\\x84 \\xec\\x9e\\x85\\xeb\\xa0\\xa5\\xed\\x95\\x98\\xec\\x84\\xb8\\xec\\x9a\\x94.\");\\r\\n\\t\\t\\t}\\r\\n\\t\\t\\tchkForm.birthdd.focus();\\r\\n\\t\\t\\tchkForm.birthdd.select();\\t */\\t\\t\\t\\t\\t\\t\\t\\r\\n\\t\\t} else {\\r\\n\\t\\t\\tif (event != null && event.srcElement.name == \"userId\" && event.keyCode == 13) {\\r\\n\\t\\t\\t\\tchkForm.password.focus();\\r\\n\\t\\t\\t\\tchkForm.password.select();\\r\\n/* \\t\\t\\t}else if (event != null && event.srcElement.name == \"password\" && event.keyCode == 13) {\\r\\n\\t\\t\\t\\tchkForm.birthyy.focus();\\r\\n\\t\\t\\t\\tchkForm.birthyy.select();\\t\\r\\n\\t\\t\\t}else if (event != null && event.srcElement.name == \"birthyy\" && event.keyCode == 13) {\\r\\n\\t\\t\\t\\tchkForm.birthmm.focus();\\r\\n\\t\\t\\t\\tchkForm.birthmm.select();\\r\\n\\t\\t\\t}else if (event != null && event.srcElement.name == \"birthmm\" && event.keyCode == 13) {\\r\\n\\t\\t\\t\\tchkForm.birthdd.focus();\\r\\n\\t\\t\\t\\tchkForm.birthdd.select();\\t\\t\\t\\t\\t\\t\\t\\t\\t\\t\\t\\r\\n */\\t\\t\\t} else {\\r\\n\\t\\t\\t\\tisTrue = true;\\r\\n\\t\\t\\t}\\r\\n\\t\\t}\\r\\n\\t}\\r\\n\\t\\r\\n\\tif (isTrue) {\\t\\t\\r\\n\\t\\t//chkForm.birthDt.value = fncSetFillzeroByVal(chkForm.birthyy.value,2)+fncSetFillzeroByVal(chkForm.birthmm.value,2)+fn_setFillzeroByVal(chkForm.birthdd.value,2);\\r\\n\\t\\tfncSubmit(chkForm);\\r\\n\\t}\\r\\n}\\r\\n\\r\\nfunction fncClearform(){\\r\\n    document.login.userId.value=\"\";\\r\\n    document.login.password.value=\"\";\\r\\n    document.login.birthyy.value=\"\";\\r\\n    document.login.birthmm.value=\"\";\\r\\n    document.login.birthdd.value=\"\";    \\r\\n    document.login.userId.focus();\\r\\n}\\r\\n\\r\\nfunction fncSetFillzeroByVal(sVal, iVal){\\r\\n\\tsStr = sVal + \"\";\\r\\n\\r\\n\\tfor (ii = sStr.length; ii < iVal; ii++) {\\r\\n\\t\\tsStr =  \"0\" + sStr;\\r\\n\\t}\\r\\n\\r\\n\\treturn sStr;\\r\\n}\\r\\n\\r\\nfunction fncOnNextFocus(objFrom, objTo){\\r\\n\\tvar sValid = \"0123456789\";\\r\\n\\r\\n\\tvar sValue = event.srcElement.value;\\r\\n\\tvar iKey = event.keyCode;\\r\\n\\tvar isShift = event.shiftKey;\\r\\n\\tvar isMove = false;\\r\\n\\tvar isCut  = false\\r\\n\\tvar isTrue = true;\\r\\n\\tvar oFrom = event.srcElement;\\r\\n\\r\\n\\tevent.srcElement.style.imeMode = \"inactive\"; //style.imeMode(active:\\xed\\x95\\x9c\\xea\\xb8\\x80, inactive:\\xec\\x98\\x81\\xeb\\xac\\xb8) \\xea\\xb7\\xb8\\xeb\\x9f\\xac\\xeb\\x82\\x98, \\xeb\\x8f\\x99\\xec\\xa0\\x81\\xec\\x9c\\xbc\\xeb\\xa1\\x9c\\xeb\\x8a\\x94 \\xeb\\xb0\\x98\\xec\\x98\\x81 \\xec\\x95\\x88\\xeb\\x90\\x9c\\xeb\\x8b\\xa4. (html tag\\xec\\x9d\\x98 style=\"IME-MODE:inactive;\" \\xeb\\xa1\\x9c \\xec\\xa7\\x80\\xec\\xa0\\x95\\xed\\x95\\x98\\xec\\x97\\xac\\xec\\x95\\xbc\\xeb\\xa7\\x8c..)\\r\\n\\r\\n\\tvar sReturnValue = \"\";\\r\\n\\tfor (var ii=0; ii < sValue.length; ii++) {\\r\\n\\t\\tif (sValid.indexOf(sValue.substring(ii, ii+1)) >= 0) {\\r\\n\\t\\t\\tsReturnValue = sReturnValue + sValue.substring(ii, ii+1);\\r\\n\\t\\t}\\r\\n\\t}\\r\\n\\r\\n\\tif ( (iKey == 37 || iKey == 38 || iKey == 39 || iKey == 40) ||\\r\\n\\t\\t (iKey == 13 || iKey == 8  || iKey == 46 || iKey == 9  || iKey == 16  || isShift) || (iKey >= 48 && iKey <= 57) ) {\\r\\n\\t\\tfor (var ii=0; ii < sValue.length; ii++) {\\r\\n\\t\\t\\tif (sValid.indexOf(sValue.substring(ii, ii+1)) < 0) {\\r\\n\\t\\t\\t\\tevent.returnValue = false;\\r\\n\\t\\t\\t\\tisCut  = true;\\r\\n\\t\\t\\t\\tisTrue = false;\\r\\n\\t\\t\\t\\tbreak;\\r\\n\\t\\t\\t}\\r\\n\\t\\t}\\r\\n\\t} else {\\r\\n\\t\\tevent.returnValue = false;\\r\\n\\t\\tisTrue = false;\\r\\n\\t}\\r\\n\\r\\n\\tif (isCut || isTrue == false)\\r\\n\\t\\toFrom.value = sReturnValue;\\r\\n\\r\\n\\tif ( (iKey == 13 || iKey == 45) ||\\r\\n\\t\\t (oFrom.value.length >= oFrom.maxLength &&\\r\\n\\t\\t !(iKey == 37 || iKey == 38 || iKey == 39 || iKey == 40 || iKey == 9 || iKey == 16 || isShift)) ) {\\r\\n\\t\\tisMove = true;\\r\\n\\t}\\r\\n\\r\\n\\tif (isMove) {\\r\\n\\t\\tfncFocus(objTo);\\r\\n\\t}\\r\\n\\r\\n\\tif (iKey == 13) {\\r\\n\\t\\tevent.keyCode = 0;\\r\\n\\t\\treturn sReturnValue;\\r\\n\\t} else {\\r\\n\\t\\treturn sReturnValue;\\r\\n\\t}\\r\\n}\\r\\n\\r\\nfunction fncFocus(objTo, bSelection){\\r\\n\\tif ( ((objTo.readonly == null) || (objTo.readonly != null && objTo.readonly == false)) &&\\r\\n\\t\\t ((objTo.disabled == null) || (objTo.disabled != null && objTo.disabled == false)) &&\\r\\n\\t\\t ((objTo.visible  == null) || (objTo.visible  != null && objTo.visible  == true )) &&\\r\\n\\t\\t ((objTo.enabled  == null) || (objTo.enabled  != null && objTo.enabled  == true )) ) {\\r\\n\\t\\tobjTo.focus();\\r\\n\\r\\n\\t\\tif ( (bSelection == null || (bSelection != null && bSelection == true)) &&\\r\\n\\t\\t\\t (objTo.isTextEdit) )\\r\\n\\t\\t\\tobjTo.select();\\r\\n\\t}\\r\\n\\treturn;\\r\\n}\\r\\n\\r\\nfunction fncInit(){\\r\\n\\t document.login.userId.focus();\\r\\n\\r\\n\\t//OTP \\xec\\x97\\xac\\xeb\\xb6\\x80 \\xec\\xa1\\xb0\\xed\\x9a\\x8c \\xed\\x9b\\x84 \\xec\\x9d\\xb8\\xec\\xa6\\x9d \\xed\\x95\\x84\\xec\\x9a\\x94 \\xec\\x8b\\x9c \\xed\\x8c\\x9d\\xec\\x97\\x85\\xec\\xb0\\xbd \\xed\\x98\\xb8\\xec\\xb6\\x9c\\r\\n\\t var OTPCertiYn = document.login.OTPCertiYn.value;\\r\\n\\t if(OTPCertiYn != null && OTPCertiYn == \"Y\" ){\\r\\n\\t\\t showOTP();\\r\\n\\t }\\r\\n\\t \\r\\n\\t var err_msg = \"\";\\r\\n\\t if (err_msg != null && err_msg != \"\"){\\r\\n\\t\\talert(err_msg);\\r\\n\\t\\tdocument.login.userId.focus();\\r\\n\\t\\treturn;\\r\\n\\t }\\r\\n}\\r\\n\\r\\nfunction showOTP(){\\r\\n\\r\\n\\t//OTP \\xec\\x97\\xac\\xeb\\xb6\\x80 \\xec\\xa1\\xb0\\xed\\x9a\\x8c \\xed\\x9b\\x84 \\xec\\x9d\\xb8\\xec\\xa6\\x9d \\xed\\x95\\x84\\xec\\x9a\\x94 \\xec\\x8b\\x9c \\xed\\x8c\\x9d\\xec\\x97\\x85\\xec\\xb0\\xbd \\xed\\x98\\xb8\\xec\\xb6\\x9c\\r\\n\\tvar OTPCertiYn = document.login.OTPCertiYn.value;\\r\\n\\tvar OTPValue = document.login.OTPValue.value;\\r\\n\\tif(OTPCertiYn != null && OTPCertiYn == \"Y\" && OTPValue == \"\"){\\r\\n\\r\\n\\t\\tdocument.doForm.userID.value \\t= document.login.userID.value;\\r\\n\\t\\tdocument.doForm.password.value \\t= document.login.s_password.value;\\r\\n\\t\\tdocument.doForm.birthDt.value \\t= document.login.s_birthDt.value;\\r\\n\\t\\twindow.open(\"/scis/common/accountPolicy/otpCeriCodePopup\",\"new_popup\",\"toolbar=no,menubar=no,scrollbars=no,\"+\"resizable=no, width=400,height=300, status=no, left=600, top=280\");\\r\\n\\t\\tdocument.doForm.target=\"new_popup\";\\r\\n\\t\\t\\r\\n\\t    document.doForm.method=\"post\";\\r\\n\\t    document.doForm.submit();\\r\\n\\t}\\r\\n}\\r\\n\\r\\nfunction fncSetAuthToken(authName,authValue){\\r\\n\\tvar tokenValue=authValue;\\r\\n\\ttokenValue = tokenValue.replace(document.login.elements[authName].value,\"\");\\r\\n\\ttokenValue = tokenValue.replace(\"=\",\"\");\\r\\n\\tdocument.login.elements[authName].value=document.login.elements[authName].value +\"=\"+ tokenValue;\\r\\n}\\r\\n\\r\\nfunction fncSubmit(formObj){\\r\\n\\tif(\\'http\\' == \"http\" && \\'80\\' == \"80\" && \\'dev\\' == \"real\"){\\r\\n\\t\\tformObj.action= \"https://test-scis.skylife.co.kr/scis/login\";\\r\\n\\t}else{\\r\\n\\t\\tformObj.action=\"/scis/login\";\\r\\n\\t}\\r\\n\\t\\r\\n\\tformObj.method=\"POST\";\\r\\n\\tformObj.submit();\\r\\n\\r\\n}\\r\\n\\r\\n\\r\\nfunction fncLogin() {\\r\\n/*     document.login.userId.value=\"01176\";\\r\\n    document.login.password.value=\"dudtnakstp1\"; */\\r\\n    //document.login.birthDt.value=\"111111\";\\r\\n    document.login.userId.value=\"21643\";\\r\\n    document.login.password.value=\"gksmfdl\";    \\r\\n    fncSubmit(document.login);\\r\\n}\\r\\n\\r\\n//\\xeb\\xb9\\x84\\xeb\\xb0\\x80\\xeb\\xb2\\x88\\xed\\x98\\xb8 10\\xed\\x9a\\x8c \\xec\\x9d\\xb4\\xec\\x83\\x81 \\xec\\x98\\xa4\\xeb\\xa5\\x98 \\xec\\x8b\\x9c \\xec\\x9e\\x84\\xec\\x8b\\x9c\\xeb\\xb9\\x84\\xeb\\xb0\\x80\\xeb\\xb2\\x88\\xed\\x98\\xb8 \\xec\\xa0\\x84\\xec\\x86\\xa1\\r\\nfunction winOpen_sms(){\\r\\n    if ( document.login.userId.value == \"\" ) {\\r\\n        alert(\"\\xec\\x82\\xac\\xec\\x9a\\xa9\\xec\\x9e\\x90ID\\xeb\\xa5\\xbc \\xec\\x9e\\x85\\xeb\\xa0\\xa5\\xed\\x95\\x98\\xec\\x84\\xb8\\xec\\x9a\\x94.\");\\r\\n        document.login.userId.focus();\\r\\n        return;\\r\\n    }\\r\\n    \\r\\n\\tvar wpopup = 440;\\r\\n\\tvar hpopup = 200;\\r\\n    var WinName = window.open(\"\",\"popup\",\"left=\"+(screen.width-wpopup)/(2)+\",top=\"+(screen.height-hpopup)/(2)+\", width=\"+wpopup+\",height=\"+hpopup+\"\");\\r\\n    document.form_sms.user_id.value = document.login.userId.value;\\r\\n\\tdocument.form_sms.target= WinName.name;\\r\\n\\t//document.form_sms.cmd.value=\"/control?cmd=common:certPopup\"; \\r\\n\\tdocument.form_sms.submit();\\r\\n}\\r\\n//-->\\r\\n</script>\\r\\n</head>\\r\\n\\r\\n<body bgcolor=\"#D3D3AB\" leftmargin=\"0\" topmargin=\"0\" marginwidth=\"0\" marginheight=\"0\" oncontextmenu=\"return false\" ondragstart=\"return false\" onselectstart=\"return false\" onload=\"fncInit();document.login.reset();\"> \\r\\n\\r\\n<table cellpadding=\"0\" cellspacing=\"0\" border=\"0\" height=\"100%\" width=\"100%\">\\r\\n\\t<tr>\\r\\n    <td align=\"center\" valibn=\"top\" height=\"270\" style=\"background-image:url(\\'/scis/img/login_bg.gif\\');background-repeat:repeat-x;\">\\r\\n\\r\\n\\t\\t<table cellpadding=\"0\" cellspacing=\"0\" border=\"0\" width=\"800\">\\r\\n\\t\\t\\t<tr>\\r\\n\\t\\t\\t\\t<td align=\"center\"><img src=\"/scis/img/login_logo.gif\"><img src=\"/scis/img/blank.gif\" width=\"5\" height=\"1\"></td>\\r\\n\\t\\t\\t</tr>\\r\\n\\t        <tr>\\r\\n\\t\\t\\t\\t<td><img src=\"/scis/img/blank.gif\" width=\"1\" height=\"10\"></td>\\r\\n\\t        </tr>\\r\\n\\t\\t</table>\\r\\n\\t\\t\\r\\n\\t\\t<table cellpadding=\"0\" cellspacing=\"0\" border=\"0\" width=\"100%\">\\r\\n\\t\\t\\t<tr>\\r\\n\\t\\t\\t\\t<td height=\"30\" align=\"right\">\\r\\n\\t\\t\\t\\t\\t<table cellpadding=\"0\" cellspacing=\"0\" border=\"0\">\\r\\n\\t\\t\\t\\t\\t\\t<form name=\"login\">\\r\\n\\t\\t\\t\\t\\t\\t<tr>\\r\\n\\t\\t\\t\\t\\t\\t\\t<td align=\"right\">\\xec\\x82\\xac\\xec\\x9a\\xa9\\xec\\x9e\\x90 ID&nbsp;</td>\\r\\n\\t\\t\\t\\t\\t\\t\\t<td><input type=\"text\" id=\"userId\"  name=\"userId\" onKeyPress=\"javascript:fncCheck(document.login, false);\" style=\"width:100; ime-mode:inactive;\" value=\"\" alt=\"\\xec\\x82\\xac\\xec\\x9a\\xa9\\xec\\x9e\\x90 ID\"></td>\\r\\n\\t\\t\\t\\t\\t\\t\\t<td>&nbsp;&nbsp;\\xeb\\xb9\\x84\\xeb\\xb0\\x80\\xeb\\xb2\\x88\\xed\\x98\\xb8&nbsp;</td>\\r\\n\\t\\t\\t\\t\\t\\t\\t<td><input type=\"password\" id=\"password\" name=\"password\" maxlength=\"15\" onKeyPress=\"javascript:fncCheck(document.login, false);\" style=\"width:130; ime-mode:inactive;\" value=\"\" alt=\"\\xeb\\xb9\\x84\\xeb\\xb0\\x80\\xeb\\xb2\\x88\\xed\\x98\\xb8\"></td>\\r\\n<!-- \\t\\t\\t\\t\\t\\t\\t<td>&nbsp;&nbsp;\\xec\\x83\\x9d\\xeb\\x85\\x84\\xec\\x9b\\x94\\xec\\x9d\\xbc&nbsp;</td>\\r\\n\\t\\t\\t\\t\\t\\t\\t<td><input type=\"text\"  name=\"birthyy\" onKeyPress=\"javascript:fncCheck(document.login, false);\" onKeyUp=\"fncOnNextFocus(this, this.form.birthmm)\" style=\"width:30;\" maxlength=\"2\"  value=\"\" alt=\"\\xeb\\x85\\x84\\xeb\\x8f\\x84\"> / <input type=\"text\" name=\"birthmm\" onKeyPress=\"javascript:fncCheck(document.login, false);\" onKeyUp=\"fncOnNextFocus(this, this.form.birthdd)\" style=\"width:30;\" maxlength=\"2\"  value=\"\" alt=\"\\xec\\x9b\\x94\"> / <input type=\"text\" name=\"birthdd\" onKeyPress=\"javascript:fncCheck(document.login, false);\" style=\"width:30;\" maxlength=\"2\"  value=\"\" alt=\"\\xec\\x9d\\xbc\"></td> -->\\r\\n\\t\\t\\t\\t\\t\\t\\t<td>&nbsp;&nbsp;&nbsp;&nbsp;&nbsp;&nbsp;&nbsp;<a href=\"javascript:fncCheck(document.login, true);showOTP();\" onMouseOver=\"MM_swapImage(\\'confirm\\',\\'\\',\\'/scis/img/btn_confirm04on.gif\\',0);\" onMouseOut=\"MM_swapImgRestore();\"><img src=\"/scis/img/btn_confirm04.gif\" border=\"0\" name=\"confirm\"></a><a href=\"javascript:fncClearform();\" onMouseOver=\"MM_swapImage(\\'cancel\\',\\'\\',\\'/scis/img/btn_cancel04on.gif\\',0);\" onMouseOut=\"MM_swapImgRestore();\"><img src=\"/scis/img/btn_cancel04.gif\" border=\"0\" hspace=\"5\"name=\"cancel\"></a>&nbsp;&nbsp;&nbsp;</td>\\r\\n\\t\\t\\t\\t\\t\\t</tr>\\t\\r\\n\\t\\t\\t\\t\\t\\t<!-- <input type=\"hidden\" name=\"birthDt\" value=\"\"> -->\\r\\n\\t\\t\\t\\t\\t\\t<input type=\"hidden\" name=\"bizDomain\" value=\"ec\">\\r\\n\\t\\t\\t\\t\\t\\t<input type=\"hidden\" name=\"OTPCertiYn\" id=\"OTPCertiYn\" value=\"\">\\r\\n\\t\\t\\t\\t\\t\\t<input type=\"hidden\" name=\"userID\" value=\"\">\\r\\n\\t\\t\\t\\t\\t\\t<input type=\"hidden\" name=\"OTPValue\" id=\"OTPValue\"  value=\"\">\\r\\n\\t\\t\\t\\t\\t\\t<input type=\"hidden\" name=\"s_password\" value=\"\">\\r\\n\\t\\t\\t\\t\\t\\t<input type=\"hidden\" name=\"s_birthDt\" value=\"\">\\r\\n\\t\\t\\t\\t\\t\\t<tr>\\r\\n\\t\\t\\t\\t\\t\\t\\t<td>\\r\\n\\t\\t\\t\\t\\t\\t\\t\\r\\n\\t\\t\\t\\t\\t\\t\\t</td>\\r\\n\\t\\t\\t\\t\\t\\t</tr>\\t\\t\\t\\t\\t\\t\\r\\n\\t\\t\\t\\t\\t\\t</form>\\r\\n\\t\\t\\t\\t\\t</table>\\r\\n\\t\\t\\t\\t</td>\\r\\n\\t\\t\\t</tr>\\r\\n \\t\\t\\t<tr>\\r\\n\\t\\t\\t\\t<td height=\"50\"align=\"right\">&nbsp;<font color=\"#173F5F\"><b><a href=\"javascript:winOpen_sms()\"><u>\\xeb\\xb9\\x84\\xeb\\xb0\\x80\\xeb\\xb2\\x88\\xed\\x98\\xb8 \\xec\\x9e\\xac\\xec\\x84\\xa4\\xec\\xa0\\x95</u> ></a></b></font></td> \\r\\n\\t\\t\\t</tr>\\r\\n\\t\\t\\t<tr>\\r\\n\\t\\t\\t\\t<td height=\"50\" align=\"right\"></td>\\r\\n\\t\\t\\t</tr>\\t\\t\\t\\r\\n\\t\\t</table>\\r\\n\\t\\t</td>\\r\\n\\t</tr>\\r\\n\\t<tr>\\r\\n\\t\\t<td valign=\"bottom\" height=\"100%\">\\r\\n\\t\\t\\t<table cellpadding=\"0\" cellspacing=\"0\" border=\"0\" width=\"100%\">\\r\\n\\t\\t\\r\\n\\t\\t\\t<tr><td align=\"right\"><font size=-1 face=\"verdana\" color=\"#444444\">build Profile:dev8001New, Buil Revision:8649, Build Time:2020/07/22 15:01:12</font>&nbsp;&nbsp;</td></tr>\\r\\n\\t\\t\\r\\n\\t\\t\\t<tr>\\r\\n\\t\\t\\t\\t<td height=\"21\" align=\"center\" bgcolor=\"#ACAC7A\"><img src=\"/scis/img/login_copy.gif\" width=\"300\" height=\"11\" alt=\"\" border=\"0\" onClick=\"fncLogin();\"></td>\\r\\n\\t\\t\\t</tr>\\r\\n\\t\\t\\t</table>\\r\\n\\t\\t</td>\\r\\n\\t</tr>\\r\\n</table>\\r\\n\\r\\n\\r\\n<form name=\"doForm\" method=\"post\" action=\"/scis/common/accountPolicy/otpCeriCodePopup\" script=\"onsubmit=\\'return false;\\'\" >\\r\\n<input type=\"hidden\" name=\"userID\" value=\"\">\\r\\n<input type=\"hidden\" name=\"password\" value=\"\">\\r\\n<input type=\"hidden\" name=\"birthDt\" value=\"\">\\r\\n</form>\\r\\n<!-- \\xeb\\xb9\\x84\\xeb\\xb0\\x80\\xeb\\xb2\\x88\\xed\\x98\\xb8 \\xec\\x9e\\xac\\xeb\\xb0\\x9c\\xea\\xb8\\x89-->\\r\\n<form name=\"form_sms\"  target=\"\" action=\"/control\" method=\"post\">         \\r\\n<input type=\"hidden\" name=\"cmd\" value=\"common:certPopup\">\\r\\n<input type=\"hidden\" name=\"user_id\" value=\"\">\\r\\n<input type=\"hidden\" name=\"deptGroup\" value=\"I00001\">\\r\\n<input type=\"hidden\" name=\"pageChk\" value=\"main\">\\r\\n</form>\\r\\n</body>\\r\\n</html>\\r\\n'"
     },
     "metadata": {},
     "execution_count": 4
    }
   ],
   "source": [
    "import urllib.request as ul\n",
    "\n",
    "url = 'http://test-scis.skylife.co.kr/scis/ec'\n",
    "request = ul.Request(url)\n",
    "response = ul.urlopen(request)\n",
    "response.getcode()\n",
    "#response.read()\n",
    "if(response.getcode() == 200):\n",
    "    responseData = response.read()\n",
    "responseData"
   ]
  },
  {
   "cell_type": "code",
   "execution_count": 5,
   "metadata": {},
   "outputs": [
    {
     "output_type": "stream",
     "name": "stdout",
     "text": "11175\n"
    }
   ],
   "source": [
    "def apply_discount(product, discount):\n",
    "    price = int(product['price'] * (1.0 - discount))\n",
    "    assert 0 <= price <= product['price']\n",
    "    return price\n",
    "\n",
    "shoes = {'name':'Fancy Shoes', 'price':14900}\n",
    "\n",
    "print(apply_discount(shoes, 0.25))"
   ]
  }
 ],
 "metadata": {
  "kernelspec": {
   "display_name": "Python 3",
   "language": "python",
   "name": "python3"
  },
  "language_info": {
   "codemirror_mode": {
    "name": "ipython",
    "version": 3
   },
   "file_extension": ".py",
   "mimetype": "text/x-python",
   "name": "python",
   "nbconvert_exporter": "python",
   "pygments_lexer": "ipython3",
   "version": "3.7.3-final"
  }
 },
 "nbformat": 4,
 "nbformat_minor": 4
}